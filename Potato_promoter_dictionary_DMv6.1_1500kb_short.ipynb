{
 "cells": [
  {
   "cell_type": "code",
   "execution_count": 1,
   "id": "476e4ab6-16ad-4577-83e4-76292fbf5bcb",
   "metadata": {},
   "outputs": [],
   "source": [
    "import pandas as pd\n",
    "import numpy as np"
   ]
  },
  {
   "cell_type": "markdown",
   "id": "43f0e4cb-adf2-4852-8636-d858d9bf2e36",
   "metadata": {
    "tags": []
   },
   "source": [
    "## I. Find the location of CDS start sites (ATGs) on the chromosomes\n",
    "Genome annotation file spuddb.uga.edu/dataDM_1-3_516_R44_potato.v6.1.hc_gene_models.gff3.gz was converted to csv."
   ]
  },
  {
   "cell_type": "markdown",
   "id": "f38d3add-fea8-4b0d-b8e9-2baf933c3ab1",
   "metadata": {
    "jp-MarkdownHeadingCollapsed": true,
    "tags": []
   },
   "source": [
    "### Task I/1. Create a dataframe that contains the location of all CDS start site."
   ]
  },
  {
   "cell_type": "code",
   "execution_count": 2,
   "id": "21633c1f-0b77-431a-a94a-d72b10445001",
   "metadata": {},
   "outputs": [
    {
     "data": {
      "text/html": [
       "<div>\n",
       "<style scoped>\n",
       "    .dataframe tbody tr th:only-of-type {\n",
       "        vertical-align: middle;\n",
       "    }\n",
       "\n",
       "    .dataframe tbody tr th {\n",
       "        vertical-align: top;\n",
       "    }\n",
       "\n",
       "    .dataframe thead th {\n",
       "        text-align: right;\n",
       "    }\n",
       "</style>\n",
       "<table border=\"1\" class=\"dataframe\">\n",
       "  <thead>\n",
       "    <tr style=\"text-align: right;\">\n",
       "      <th></th>\n",
       "      <th>Seqname</th>\n",
       "      <th>Source</th>\n",
       "      <th>Feature</th>\n",
       "      <th>Start</th>\n",
       "      <th>End</th>\n",
       "      <th>Score</th>\n",
       "      <th>Strand</th>\n",
       "      <th>Frame</th>\n",
       "      <th>Attributes</th>\n",
       "    </tr>\n",
       "  </thead>\n",
       "  <tbody>\n",
       "    <tr>\n",
       "      <th>0</th>\n",
       "      <td>chr01</td>\n",
       "      <td>MSU_DM_v6.1</td>\n",
       "      <td>exon</td>\n",
       "      <td>432461</td>\n",
       "      <td>432488</td>\n",
       "      <td>.</td>\n",
       "      <td>-</td>\n",
       "      <td>.</td>\n",
       "      <td>transcript_id \"Soltu.DM.01G000010.1\"; gene_id ...</td>\n",
       "    </tr>\n",
       "    <tr>\n",
       "      <th>1</th>\n",
       "      <td>chr01</td>\n",
       "      <td>MSU_DM_v6.1</td>\n",
       "      <td>exon</td>\n",
       "      <td>432715</td>\n",
       "      <td>433172</td>\n",
       "      <td>.</td>\n",
       "      <td>-</td>\n",
       "      <td>.</td>\n",
       "      <td>transcript_id \"Soltu.DM.01G000010.1\"; gene_id ...</td>\n",
       "    </tr>\n",
       "  </tbody>\n",
       "</table>\n",
       "</div>"
      ],
      "text/plain": [
       "  Seqname       Source Feature   Start     End Score Strand Frame   \n",
       "0   chr01  MSU_DM_v6.1    exon  432461  432488     .      -     .  \\\n",
       "1   chr01  MSU_DM_v6.1    exon  432715  433172     .      -     .   \n",
       "\n",
       "                                          Attributes  \n",
       "0  transcript_id \"Soltu.DM.01G000010.1\"; gene_id ...  \n",
       "1  transcript_id \"Soltu.DM.01G000010.1\"; gene_id ...  "
      ]
     },
     "execution_count": 2,
     "metadata": {},
     "output_type": "execute_result"
    }
   ],
   "source": [
    "\"\"\" import csv file and convert it to a dataframe \"\"\"\n",
    "\n",
    "data = pd.read_csv(\"DM_1-3_516_R44_potato.v6.1.hc_gene_models.csv\")\n",
    "df1 = pd.DataFrame(data)\n",
    "df1.head(2)"
   ]
  },
  {
   "cell_type": "code",
   "execution_count": 3,
   "id": "0252fb36-4dad-4870-8f8c-3d7ab42285be",
   "metadata": {},
   "outputs": [
    {
     "data": {
      "text/html": [
       "<div>\n",
       "<style scoped>\n",
       "    .dataframe tbody tr th:only-of-type {\n",
       "        vertical-align: middle;\n",
       "    }\n",
       "\n",
       "    .dataframe tbody tr th {\n",
       "        vertical-align: top;\n",
       "    }\n",
       "\n",
       "    .dataframe thead th {\n",
       "        text-align: right;\n",
       "    }\n",
       "</style>\n",
       "<table border=\"1\" class=\"dataframe\">\n",
       "  <thead>\n",
       "    <tr style=\"text-align: right;\">\n",
       "      <th></th>\n",
       "      <th>Seqname</th>\n",
       "      <th>Source</th>\n",
       "      <th>Feature</th>\n",
       "      <th>Start</th>\n",
       "      <th>End</th>\n",
       "      <th>Score</th>\n",
       "      <th>Strand</th>\n",
       "      <th>Frame</th>\n",
       "      <th>Attributes</th>\n",
       "    </tr>\n",
       "  </thead>\n",
       "  <tbody>\n",
       "    <tr>\n",
       "      <th>12</th>\n",
       "      <td>chr01</td>\n",
       "      <td>MSU_DM_v6.1</td>\n",
       "      <td>CDS</td>\n",
       "      <td>433114</td>\n",
       "      <td>433172</td>\n",
       "      <td>.</td>\n",
       "      <td>-</td>\n",
       "      <td>2</td>\n",
       "      <td>transcript_id \"Soltu.DM.01G000010.1\"; gene_id ...</td>\n",
       "    </tr>\n",
       "    <tr>\n",
       "      <th>13</th>\n",
       "      <td>chr01</td>\n",
       "      <td>MSU_DM_v6.1</td>\n",
       "      <td>CDS</td>\n",
       "      <td>437498</td>\n",
       "      <td>437543</td>\n",
       "      <td>.</td>\n",
       "      <td>-</td>\n",
       "      <td>0</td>\n",
       "      <td>transcript_id \"Soltu.DM.01G000010.1\"; gene_id ...</td>\n",
       "    </tr>\n",
       "  </tbody>\n",
       "</table>\n",
       "</div>"
      ],
      "text/plain": [
       "   Seqname       Source Feature   Start     End Score Strand Frame   \n",
       "12   chr01  MSU_DM_v6.1     CDS  433114  433172     .      -     2  \\\n",
       "13   chr01  MSU_DM_v6.1     CDS  437498  437543     .      -     0   \n",
       "\n",
       "                                           Attributes  \n",
       "12  transcript_id \"Soltu.DM.01G000010.1\"; gene_id ...  \n",
       "13  transcript_id \"Soltu.DM.01G000010.1\"; gene_id ...  "
      ]
     },
     "execution_count": 3,
     "metadata": {},
     "output_type": "execute_result"
    }
   ],
   "source": [
    "\"\"\" ATGs are on the first CDSs, drop rows if the Feature column contains the \"exon\" string  \"\"\"\n",
    "\n",
    "df1 = df1[~df1['Feature'].isin(['exon'])]\n",
    "df1.head(2)"
   ]
  },
  {
   "cell_type": "code",
   "execution_count": 4,
   "id": "ec03875e-bbcd-4d43-a657-4cf3f187a915",
   "metadata": {},
   "outputs": [
    {
     "data": {
      "text/html": [
       "<div>\n",
       "<style scoped>\n",
       "    .dataframe tbody tr th:only-of-type {\n",
       "        vertical-align: middle;\n",
       "    }\n",
       "\n",
       "    .dataframe tbody tr th {\n",
       "        vertical-align: top;\n",
       "    }\n",
       "\n",
       "    .dataframe thead th {\n",
       "        text-align: right;\n",
       "    }\n",
       "</style>\n",
       "<table border=\"1\" class=\"dataframe\">\n",
       "  <thead>\n",
       "    <tr style=\"text-align: right;\">\n",
       "      <th></th>\n",
       "      <th>Seqname</th>\n",
       "      <th>Source</th>\n",
       "      <th>Feature</th>\n",
       "      <th>Start</th>\n",
       "      <th>End</th>\n",
       "      <th>Score</th>\n",
       "      <th>Strand</th>\n",
       "      <th>Frame</th>\n",
       "      <th>Attributes</th>\n",
       "      <th>transcript_ID</th>\n",
       "      <th>gene_ID</th>\n",
       "    </tr>\n",
       "  </thead>\n",
       "  <tbody>\n",
       "    <tr>\n",
       "      <th>12</th>\n",
       "      <td>chr01</td>\n",
       "      <td>MSU_DM_v6.1</td>\n",
       "      <td>CDS</td>\n",
       "      <td>433114</td>\n",
       "      <td>433172</td>\n",
       "      <td>.</td>\n",
       "      <td>-</td>\n",
       "      <td>2</td>\n",
       "      <td>transcript_id \"Soltu.DM.01G000010.1\"; gene_id ...</td>\n",
       "      <td>transcript_id \"Soltu.DM.01G000010.1\"</td>\n",
       "      <td>gene_id \"Soltu.DM.01G000010\";</td>\n",
       "    </tr>\n",
       "    <tr>\n",
       "      <th>13</th>\n",
       "      <td>chr01</td>\n",
       "      <td>MSU_DM_v6.1</td>\n",
       "      <td>CDS</td>\n",
       "      <td>437498</td>\n",
       "      <td>437543</td>\n",
       "      <td>.</td>\n",
       "      <td>-</td>\n",
       "      <td>0</td>\n",
       "      <td>transcript_id \"Soltu.DM.01G000010.1\"; gene_id ...</td>\n",
       "      <td>transcript_id \"Soltu.DM.01G000010.1\"</td>\n",
       "      <td>gene_id \"Soltu.DM.01G000010\";</td>\n",
       "    </tr>\n",
       "  </tbody>\n",
       "</table>\n",
       "</div>"
      ],
      "text/plain": [
       "   Seqname       Source Feature   Start     End Score Strand Frame   \n",
       "12   chr01  MSU_DM_v6.1     CDS  433114  433172     .      -     2  \\\n",
       "13   chr01  MSU_DM_v6.1     CDS  437498  437543     .      -     0   \n",
       "\n",
       "                                           Attributes   \n",
       "12  transcript_id \"Soltu.DM.01G000010.1\"; gene_id ...  \\\n",
       "13  transcript_id \"Soltu.DM.01G000010.1\"; gene_id ...   \n",
       "\n",
       "                           transcript_ID                        gene_ID  \n",
       "12  transcript_id \"Soltu.DM.01G000010.1\"  gene_id \"Soltu.DM.01G000010\";  \n",
       "13  transcript_id \"Soltu.DM.01G000010.1\"  gene_id \"Soltu.DM.01G000010\";  "
      ]
     },
     "execution_count": 4,
     "metadata": {},
     "output_type": "execute_result"
    }
   ],
   "source": [
    "\"\"\" split the \"Attributes\" column \"\"\"\n",
    "\n",
    "df1[[\"transcript_ID\",\"gene_ID\"]] = df1[\"Attributes\"].str.split(\"; \",expand=True)  \n",
    "df1.head(2)"
   ]
  },
  {
   "cell_type": "code",
   "execution_count": 5,
   "id": "1f42bbdd-29f1-4afa-8f73-dcdc3582a0e1",
   "metadata": {},
   "outputs": [
    {
     "data": {
      "text/html": [
       "<div>\n",
       "<style scoped>\n",
       "    .dataframe tbody tr th:only-of-type {\n",
       "        vertical-align: middle;\n",
       "    }\n",
       "\n",
       "    .dataframe tbody tr th {\n",
       "        vertical-align: top;\n",
       "    }\n",
       "\n",
       "    .dataframe thead th {\n",
       "        text-align: right;\n",
       "    }\n",
       "</style>\n",
       "<table border=\"1\" class=\"dataframe\">\n",
       "  <thead>\n",
       "    <tr style=\"text-align: right;\">\n",
       "      <th></th>\n",
       "      <th>Seqname</th>\n",
       "      <th>Start</th>\n",
       "      <th>End</th>\n",
       "      <th>Strand</th>\n",
       "      <th>gene_ID</th>\n",
       "    </tr>\n",
       "  </thead>\n",
       "  <tbody>\n",
       "    <tr>\n",
       "      <th>12</th>\n",
       "      <td>chr01</td>\n",
       "      <td>433114</td>\n",
       "      <td>433172</td>\n",
       "      <td>-</td>\n",
       "      <td>gene_id \"Soltu.DM.01G000010\";</td>\n",
       "    </tr>\n",
       "    <tr>\n",
       "      <th>13</th>\n",
       "      <td>chr01</td>\n",
       "      <td>437498</td>\n",
       "      <td>437543</td>\n",
       "      <td>-</td>\n",
       "      <td>gene_id \"Soltu.DM.01G000010\";</td>\n",
       "    </tr>\n",
       "  </tbody>\n",
       "</table>\n",
       "</div>"
      ],
      "text/plain": [
       "   Seqname   Start     End Strand                        gene_ID\n",
       "12   chr01  433114  433172      -  gene_id \"Soltu.DM.01G000010\";\n",
       "13   chr01  437498  437543      -  gene_id \"Soltu.DM.01G000010\";"
      ]
     },
     "execution_count": 5,
     "metadata": {},
     "output_type": "execute_result"
    }
   ],
   "source": [
    "\"\"\" drop the unnecessary columns \"\"\"\n",
    "\n",
    "df2= df1.drop(['Attributes', 'transcript_ID','Source', 'Feature', 'Score', 'Frame'], axis=1)        #default is axis = 0 which is rows columns is axis = 1.\n",
    "df2.head(2)"
   ]
  },
  {
   "cell_type": "code",
   "execution_count": 6,
   "id": "b2e280e4-9c15-42cc-bf0d-c7584c74cada",
   "metadata": {},
   "outputs": [
    {
     "data": {
      "text/html": [
       "<div>\n",
       "<style scoped>\n",
       "    .dataframe tbody tr th:only-of-type {\n",
       "        vertical-align: middle;\n",
       "    }\n",
       "\n",
       "    .dataframe tbody tr th {\n",
       "        vertical-align: top;\n",
       "    }\n",
       "\n",
       "    .dataframe thead th {\n",
       "        text-align: right;\n",
       "    }\n",
       "</style>\n",
       "<table border=\"1\" class=\"dataframe\">\n",
       "  <thead>\n",
       "    <tr style=\"text-align: right;\">\n",
       "      <th></th>\n",
       "      <th>Seqname</th>\n",
       "      <th>Start</th>\n",
       "      <th>End</th>\n",
       "      <th>Strand</th>\n",
       "      <th>gene_ID</th>\n",
       "    </tr>\n",
       "  </thead>\n",
       "  <tbody>\n",
       "    <tr>\n",
       "      <th>12</th>\n",
       "      <td>chr01</td>\n",
       "      <td>433114</td>\n",
       "      <td>433172</td>\n",
       "      <td>-</td>\n",
       "      <td>Soltu.DM.01G000010</td>\n",
       "    </tr>\n",
       "    <tr>\n",
       "      <th>13</th>\n",
       "      <td>chr01</td>\n",
       "      <td>437498</td>\n",
       "      <td>437543</td>\n",
       "      <td>-</td>\n",
       "      <td>Soltu.DM.01G000010</td>\n",
       "    </tr>\n",
       "  </tbody>\n",
       "</table>\n",
       "</div>"
      ],
      "text/plain": [
       "   Seqname   Start     End Strand             gene_ID\n",
       "12   chr01  433114  433172      -  Soltu.DM.01G000010\n",
       "13   chr01  437498  437543      -  Soltu.DM.01G000010"
      ]
     },
     "execution_count": 6,
     "metadata": {},
     "output_type": "execute_result"
    }
   ],
   "source": [
    "\"\"\" clean the gene_ID column \"\"\"\n",
    "\n",
    "df2['gene_ID'] = df2['gene_ID'].map(lambda x: x.lstrip('gene_id \"').rstrip('\";'))\n",
    "df2.head(2)"
   ]
  },
  {
   "cell_type": "markdown",
   "id": "b82b2fe9-58ee-499d-acbf-29bd24c38917",
   "metadata": {
    "jp-MarkdownHeadingCollapsed": true,
    "tags": []
   },
   "source": [
    "### Task I/2. Split the dataframe in two (based on the genes are located on the positive or negative DNA strand). "
   ]
  },
  {
   "cell_type": "code",
   "execution_count": 7,
   "id": "93a64162-09ba-4905-83dd-9e542784142c",
   "metadata": {},
   "outputs": [
    {
     "data": {
      "text/html": [
       "<div>\n",
       "<style scoped>\n",
       "    .dataframe tbody tr th:only-of-type {\n",
       "        vertical-align: middle;\n",
       "    }\n",
       "\n",
       "    .dataframe tbody tr th {\n",
       "        vertical-align: top;\n",
       "    }\n",
       "\n",
       "    .dataframe thead th {\n",
       "        text-align: right;\n",
       "    }\n",
       "</style>\n",
       "<table border=\"1\" class=\"dataframe\">\n",
       "  <thead>\n",
       "    <tr style=\"text-align: right;\">\n",
       "      <th></th>\n",
       "      <th>Seqname</th>\n",
       "      <th>Start</th>\n",
       "      <th>gene_ID</th>\n",
       "    </tr>\n",
       "  </thead>\n",
       "  <tbody>\n",
       "    <tr>\n",
       "      <th>140</th>\n",
       "      <td>chr01</td>\n",
       "      <td>483765</td>\n",
       "      <td>Soltu.DM.01G000030</td>\n",
       "    </tr>\n",
       "    <tr>\n",
       "      <th>141</th>\n",
       "      <td>chr01</td>\n",
       "      <td>484411</td>\n",
       "      <td>Soltu.DM.01G000030</td>\n",
       "    </tr>\n",
       "  </tbody>\n",
       "</table>\n",
       "</div>"
      ],
      "text/plain": [
       "    Seqname   Start             gene_ID\n",
       "140   chr01  483765  Soltu.DM.01G000030\n",
       "141   chr01  484411  Soltu.DM.01G000030"
      ]
     },
     "execution_count": 7,
     "metadata": {},
     "output_type": "execute_result"
    }
   ],
   "source": [
    "\"\"\" define positive strand dataframe (drop rows with -), drop Strand column \"\"\"\n",
    "\n",
    "df_pos_strand = df2.drop(df2[df2['Strand'] == '-'].index)\n",
    "df_pos_strand = df_pos_strand.drop(['End','Strand'], axis=1)  \n",
    "df_pos_strand.head(2)"
   ]
  },
  {
   "cell_type": "code",
   "execution_count": 8,
   "id": "6e3aac3e-c5ef-45a3-a7e0-6c1ce4a5a4db",
   "metadata": {},
   "outputs": [
    {
     "data": {
      "text/html": [
       "<div>\n",
       "<style scoped>\n",
       "    .dataframe tbody tr th:only-of-type {\n",
       "        vertical-align: middle;\n",
       "    }\n",
       "\n",
       "    .dataframe tbody tr th {\n",
       "        vertical-align: top;\n",
       "    }\n",
       "\n",
       "    .dataframe thead th {\n",
       "        text-align: right;\n",
       "    }\n",
       "</style>\n",
       "<table border=\"1\" class=\"dataframe\">\n",
       "  <thead>\n",
       "    <tr style=\"text-align: right;\">\n",
       "      <th></th>\n",
       "      <th>Seqname</th>\n",
       "      <th>End</th>\n",
       "      <th>gene_ID</th>\n",
       "    </tr>\n",
       "  </thead>\n",
       "  <tbody>\n",
       "    <tr>\n",
       "      <th>12</th>\n",
       "      <td>chr01</td>\n",
       "      <td>433172</td>\n",
       "      <td>Soltu.DM.01G000010</td>\n",
       "    </tr>\n",
       "    <tr>\n",
       "      <th>13</th>\n",
       "      <td>chr01</td>\n",
       "      <td>437543</td>\n",
       "      <td>Soltu.DM.01G000010</td>\n",
       "    </tr>\n",
       "  </tbody>\n",
       "</table>\n",
       "</div>"
      ],
      "text/plain": [
       "   Seqname     End             gene_ID\n",
       "12   chr01  433172  Soltu.DM.01G000010\n",
       "13   chr01  437543  Soltu.DM.01G000010"
      ]
     },
     "execution_count": 8,
     "metadata": {},
     "output_type": "execute_result"
    }
   ],
   "source": [
    "\"\"\" define negative strand dataframe (drop rows with +), drop Strand column \"\"\"\n",
    "\n",
    "df_neg_strand = df2.drop(df2[df2['Strand'] == '+'].index)\n",
    "df_neg_strand = df_neg_strand.drop(['Start', 'Strand'], axis=1) \n",
    "df_neg_strand.head(2)"
   ]
  },
  {
   "cell_type": "markdown",
   "id": "ee8fbc89-f366-4214-b9e6-5ecff4f5dcd8",
   "metadata": {
    "jp-MarkdownHeadingCollapsed": true,
    "tags": []
   },
   "source": [
    "### Task I/3. Format the two new dataframes: for positive DNA strand keep the Start column, for negative DNA strand dataframe keep the End column."
   ]
  },
  {
   "cell_type": "code",
   "execution_count": 9,
   "id": "e4a8677f-6b9e-4e5d-a6e6-ec3de69f44cf",
   "metadata": {},
   "outputs": [
    {
     "data": {
      "text/html": [
       "<div>\n",
       "<style scoped>\n",
       "    .dataframe tbody tr th:only-of-type {\n",
       "        vertical-align: middle;\n",
       "    }\n",
       "\n",
       "    .dataframe tbody tr th {\n",
       "        vertical-align: top;\n",
       "    }\n",
       "\n",
       "    .dataframe thead th {\n",
       "        text-align: right;\n",
       "    }\n",
       "</style>\n",
       "<table border=\"1\" class=\"dataframe\">\n",
       "  <thead>\n",
       "    <tr style=\"text-align: right;\">\n",
       "      <th></th>\n",
       "      <th>Seqname</th>\n",
       "      <th>Start</th>\n",
       "      <th>gene_ID</th>\n",
       "    </tr>\n",
       "  </thead>\n",
       "  <tbody>\n",
       "    <tr>\n",
       "      <th>140</th>\n",
       "      <td>chr01</td>\n",
       "      <td>483765</td>\n",
       "      <td>Soltu.DM.01G000030</td>\n",
       "    </tr>\n",
       "    <tr>\n",
       "      <th>141</th>\n",
       "      <td>chr01</td>\n",
       "      <td>484411</td>\n",
       "      <td>Soltu.DM.01G000030</td>\n",
       "    </tr>\n",
       "  </tbody>\n",
       "</table>\n",
       "</div>"
      ],
      "text/plain": [
       "    Seqname   Start             gene_ID\n",
       "140   chr01  483765  Soltu.DM.01G000030\n",
       "141   chr01  484411  Soltu.DM.01G000030"
      ]
     },
     "execution_count": 9,
     "metadata": {},
     "output_type": "execute_result"
    }
   ],
   "source": [
    "\"\"\" drop duplicated gene_IDs, keep the first row of each - those should be the ones starting with the ATGs \"\"\"\n",
    "\n",
    "df_pos_strand_ = df_pos_strand.drop_duplicates(subset='gene_ID', keep=\"first\")\n",
    "df_pos_strand_ = df_pos_strand_.reset_index(drop=True)\n",
    "df_pos_strand.head(2)"
   ]
  },
  {
   "cell_type": "code",
   "execution_count": 10,
   "id": "9e9b38bb-8407-4f5d-977b-1feb49886c14",
   "metadata": {},
   "outputs": [
    {
     "data": {
      "text/html": [
       "<div>\n",
       "<style scoped>\n",
       "    .dataframe tbody tr th:only-of-type {\n",
       "        vertical-align: middle;\n",
       "    }\n",
       "\n",
       "    .dataframe tbody tr th {\n",
       "        vertical-align: top;\n",
       "    }\n",
       "\n",
       "    .dataframe thead th {\n",
       "        text-align: right;\n",
       "    }\n",
       "</style>\n",
       "<table border=\"1\" class=\"dataframe\">\n",
       "  <thead>\n",
       "    <tr style=\"text-align: right;\">\n",
       "      <th></th>\n",
       "      <th>Seqname</th>\n",
       "      <th>Start</th>\n",
       "      <th>gene_ID</th>\n",
       "    </tr>\n",
       "  </thead>\n",
       "  <tbody>\n",
       "    <tr>\n",
       "      <th>0</th>\n",
       "      <td>chr01</td>\n",
       "      <td>483764</td>\n",
       "      <td>Soltu.DM.01G000030</td>\n",
       "    </tr>\n",
       "    <tr>\n",
       "      <th>1</th>\n",
       "      <td>chr01</td>\n",
       "      <td>498186</td>\n",
       "      <td>Soltu.DM.01G000040</td>\n",
       "    </tr>\n",
       "  </tbody>\n",
       "</table>\n",
       "</div>"
      ],
      "text/plain": [
       "  Seqname   Start             gene_ID\n",
       "0   chr01  483764  Soltu.DM.01G000030\n",
       "1   chr01  498186  Soltu.DM.01G000040"
      ]
     },
     "execution_count": 10,
     "metadata": {},
     "output_type": "execute_result"
    }
   ],
   "source": [
    "\"\"\" substract a number from each value to fix indexing problem later \"\"\"\n",
    "\n",
    "df_pos_strand_[\"Start\"] = df_pos_strand_[\"Start\"] - 1  \n",
    "df_pos_strand_.head(2)"
   ]
  },
  {
   "cell_type": "code",
   "execution_count": 11,
   "id": "be22aba8-09f0-4620-85c0-a20237815bcf",
   "metadata": {},
   "outputs": [
    {
     "data": {
      "text/html": [
       "<div>\n",
       "<style scoped>\n",
       "    .dataframe tbody tr th:only-of-type {\n",
       "        vertical-align: middle;\n",
       "    }\n",
       "\n",
       "    .dataframe tbody tr th {\n",
       "        vertical-align: top;\n",
       "    }\n",
       "\n",
       "    .dataframe thead th {\n",
       "        text-align: right;\n",
       "    }\n",
       "</style>\n",
       "<table border=\"1\" class=\"dataframe\">\n",
       "  <thead>\n",
       "    <tr style=\"text-align: right;\">\n",
       "      <th></th>\n",
       "      <th>Seqname</th>\n",
       "      <th>End</th>\n",
       "      <th>gene_ID</th>\n",
       "    </tr>\n",
       "  </thead>\n",
       "  <tbody>\n",
       "    <tr>\n",
       "      <th>0</th>\n",
       "      <td>chr01</td>\n",
       "      <td>448858</td>\n",
       "      <td>Soltu.DM.01G000010</td>\n",
       "    </tr>\n",
       "    <tr>\n",
       "      <th>1</th>\n",
       "      <td>chr01</td>\n",
       "      <td>460087</td>\n",
       "      <td>Soltu.DM.01G000020</td>\n",
       "    </tr>\n",
       "  </tbody>\n",
       "</table>\n",
       "</div>"
      ],
      "text/plain": [
       "  Seqname     End             gene_ID\n",
       "0   chr01  448858  Soltu.DM.01G000010\n",
       "1   chr01  460087  Soltu.DM.01G000020"
      ]
     },
     "execution_count": 11,
     "metadata": {},
     "output_type": "execute_result"
    }
   ],
   "source": [
    "\"\"\" drop duplicated gene_IDs, keep the last row of each those should end with CAT (ATG), drop Strand column \"\"\"\n",
    "\n",
    "df_neg_strand_ = df_neg_strand.drop_duplicates(subset='gene_ID', keep=\"last\")\n",
    "df_neg_strand_= df_neg_strand_.reset_index(drop=True)\n",
    "df_neg_strand_.head(2)"
   ]
  },
  {
   "cell_type": "code",
   "execution_count": 12,
   "id": "76561641-2cb8-4fec-b0e0-6c4b26351f84",
   "metadata": {},
   "outputs": [
    {
     "data": {
      "text/html": [
       "<div>\n",
       "<style scoped>\n",
       "    .dataframe tbody tr th:only-of-type {\n",
       "        vertical-align: middle;\n",
       "    }\n",
       "\n",
       "    .dataframe tbody tr th {\n",
       "        vertical-align: top;\n",
       "    }\n",
       "\n",
       "    .dataframe thead th {\n",
       "        text-align: right;\n",
       "    }\n",
       "</style>\n",
       "<table border=\"1\" class=\"dataframe\">\n",
       "  <thead>\n",
       "    <tr style=\"text-align: right;\">\n",
       "      <th></th>\n",
       "      <th>Seqname</th>\n",
       "      <th>End</th>\n",
       "      <th>gene_ID</th>\n",
       "    </tr>\n",
       "  </thead>\n",
       "  <tbody>\n",
       "    <tr>\n",
       "      <th>0</th>\n",
       "      <td>chr01</td>\n",
       "      <td>448859</td>\n",
       "      <td>Soltu.DM.01G000010</td>\n",
       "    </tr>\n",
       "    <tr>\n",
       "      <th>1</th>\n",
       "      <td>chr01</td>\n",
       "      <td>460088</td>\n",
       "      <td>Soltu.DM.01G000020</td>\n",
       "    </tr>\n",
       "  </tbody>\n",
       "</table>\n",
       "</div>"
      ],
      "text/plain": [
       "  Seqname     End             gene_ID\n",
       "0   chr01  448859  Soltu.DM.01G000010\n",
       "1   chr01  460088  Soltu.DM.01G000020"
      ]
     },
     "execution_count": 12,
     "metadata": {},
     "output_type": "execute_result"
    }
   ],
   "source": [
    "\"\"\" add a number to each value to fix indexing problem that would come later \"\"\"\n",
    "\n",
    "df_neg_strand_[\"End\"] = df_neg_strand_[\"End\"] + 1  \n",
    "df_neg_strand_.head(2)"
   ]
  },
  {
   "cell_type": "markdown",
   "id": "93436059-25f7-4d32-a4c9-c3713da20157",
   "metadata": {
    "jp-MarkdownHeadingCollapsed": true,
    "tags": []
   },
   "source": [
    "### Task I/4. Both DNA strand dataframes are to be separated to chromosomes."
   ]
  },
  {
   "cell_type": "code",
   "execution_count": 13,
   "id": "b8edf954-3ee0-4be9-b756-4e5033fd75d3",
   "metadata": {},
   "outputs": [],
   "source": [
    "\"\"\" separate chrosomes in both strands -> 24 new DFs with the mapped ATGs \"\"\"\n",
    "\n",
    "# chromosome separation for positive DNA strand datframes\n",
    "\n",
    "chr1_pos_mapped = df_pos_strand_[df_pos_strand_['Seqname'].str.contains(\"chr01\")]\n",
    "chr2_pos_mapped = df_pos_strand_[df_pos_strand_['Seqname'].str.contains(\"chr02\")]\n",
    "chr3_pos_mapped = df_pos_strand_[df_pos_strand_['Seqname'].str.contains(\"chr03\")]\n",
    "chr4_pos_mapped = df_pos_strand_[df_pos_strand_['Seqname'].str.contains(\"chr04\")]\n",
    "chr5_pos_mapped = df_pos_strand_[df_pos_strand_['Seqname'].str.contains(\"chr05\")]\n",
    "chr6_pos_mapped = df_pos_strand_[df_pos_strand_['Seqname'].str.contains(\"chr06\")]\n",
    "chr7_pos_mapped = df_pos_strand_[df_pos_strand_['Seqname'].str.contains(\"chr07\")]\n",
    "chr8_pos_mapped = df_pos_strand_[df_pos_strand_['Seqname'].str.contains(\"chr08\")]\n",
    "chr9_pos_mapped = df_pos_strand_[df_pos_strand_['Seqname'].str.contains(\"chr09\")]\n",
    "chr10_pos_mapped = df_pos_strand_[df_pos_strand_['Seqname'].str.contains(\"chr10\")]\n",
    "chr11_pos_mapped = df_pos_strand_[df_pos_strand_['Seqname'].str.contains(\"chr11\")]\n",
    "chr12_pos_mapped = df_pos_strand_[df_pos_strand_['Seqname'].str.contains(\"chr12\")]\n",
    "\n",
    "# chromosome separation for negative DNA strand datframes\n",
    "\n",
    "chr1_neg_mapped = df_neg_strand_[df_neg_strand_['Seqname'].str.contains(\"chr01\")]\n",
    "chr2_neg_mapped = df_neg_strand_[df_neg_strand_['Seqname'].str.contains(\"chr02\")]\n",
    "chr3_neg_mapped = df_neg_strand_[df_neg_strand_['Seqname'].str.contains(\"chr03\")]\n",
    "chr4_neg_mapped = df_neg_strand_[df_neg_strand_['Seqname'].str.contains(\"chr04\")]\n",
    "chr5_neg_mapped = df_neg_strand_[df_neg_strand_['Seqname'].str.contains(\"chr05\")]\n",
    "chr6_neg_mapped = df_neg_strand_[df_neg_strand_['Seqname'].str.contains(\"chr06\")]\n",
    "chr7_neg_mapped = df_neg_strand_[df_neg_strand_['Seqname'].str.contains(\"chr07\")]\n",
    "chr8_neg_mapped = df_neg_strand_[df_neg_strand_['Seqname'].str.contains(\"chr08\")]\n",
    "chr9_neg_mapped = df_neg_strand_[df_neg_strand_['Seqname'].str.contains(\"chr09\")]\n",
    "chr10_neg_mapped = df_neg_strand_[df_neg_strand_['Seqname'].str.contains(\"chr10\")]\n",
    "chr11_neg_mapped = df_neg_strand_[df_neg_strand_['Seqname'].str.contains(\"chr11\")]\n",
    "chr12_neg_mapped = df_neg_strand_[df_neg_strand_['Seqname'].str.contains(\"chr12\")]"
   ]
  },
  {
   "cell_type": "code",
   "execution_count": 14,
   "id": "8685d014-ba75-4d70-8a8e-1bf2127f191f",
   "metadata": {},
   "outputs": [
    {
     "data": {
      "text/html": [
       "<div>\n",
       "<style scoped>\n",
       "    .dataframe tbody tr th:only-of-type {\n",
       "        vertical-align: middle;\n",
       "    }\n",
       "\n",
       "    .dataframe tbody tr th {\n",
       "        vertical-align: top;\n",
       "    }\n",
       "\n",
       "    .dataframe thead th {\n",
       "        text-align: right;\n",
       "    }\n",
       "</style>\n",
       "<table border=\"1\" class=\"dataframe\">\n",
       "  <thead>\n",
       "    <tr style=\"text-align: right;\">\n",
       "      <th></th>\n",
       "      <th>End</th>\n",
       "      <th>gene_ID</th>\n",
       "    </tr>\n",
       "  </thead>\n",
       "  <tbody>\n",
       "    <tr>\n",
       "      <th>11651</th>\n",
       "      <td>67896</td>\n",
       "      <td>Soltu.DM.09G000160</td>\n",
       "    </tr>\n",
       "    <tr>\n",
       "      <th>11652</th>\n",
       "      <td>75058</td>\n",
       "      <td>Soltu.DM.09G000170</td>\n",
       "    </tr>\n",
       "  </tbody>\n",
       "</table>\n",
       "</div>"
      ],
      "text/plain": [
       "         End             gene_ID\n",
       "11651  67896  Soltu.DM.09G000160\n",
       "11652  75058  Soltu.DM.09G000170"
      ]
     },
     "execution_count": 14,
     "metadata": {},
     "output_type": "execute_result"
    }
   ],
   "source": [
    "\"\"\" drop Seqname columns in all the 24 datafarmes \"\"\"\n",
    "\n",
    "for i in range(1, 13):\n",
    "    chr_pos_mapped_ = globals().get(f\"chr{i}_pos_mapped\")\n",
    "    chr_neg_mapped_ = globals().get(f\"chr{i}_neg_mapped\")\n",
    "    chr_pos_mapped_ = chr_pos_mapped_.drop(['Seqname'], axis=1)\n",
    "    chr_neg_mapped_ = chr_neg_mapped_.drop(['Seqname'], axis=1)\n",
    "    globals()[f\"chr{i}_pos_mapped_\"] = chr_pos_mapped_\n",
    "    globals()[f\"chr{i}_neg_mapped_\"] = chr_neg_mapped_\n",
    "# test one of them\n",
    "chr9_neg_mapped_.head(2)"
   ]
  },
  {
   "cell_type": "markdown",
   "id": "d9e290fa-4dd6-4654-a8cb-d1084bc22810",
   "metadata": {
    "jp-MarkdownHeadingCollapsed": true,
    "tags": []
   },
   "source": [
    "## II. Assign chromosome sequences to variables\n",
    "Genome sequence file DM_1-3_516_R44_potato_genome_assembly.v6.1.fa is downloaded from SpuDB and uncompressed on usegalaxy.org site."
   ]
  },
  {
   "cell_type": "code",
   "execution_count": 15,
   "id": "73df8da5-ab52-4b36-9e7f-f64b80843090",
   "metadata": {},
   "outputs": [],
   "source": [
    "\"\"\" open fasta file as a string and assign to a variable \"\"\"    \n",
    "\n",
    "filename = \"DM_1-3_516_R44_potato_genome_assembly.v6.1.fa_uncompressed.fasta\"\n",
    "genome = open(filename, \"r\")\n",
    "whole_seq_withLineBreaks = genome.read()\n",
    "genome.close()\n",
    "whole_seq = whole_seq_withLineBreaks.replace(\"\\n\", \"\") "
   ]
  },
  {
   "cell_type": "code",
   "execution_count": 16,
   "id": "e4697da3-40cb-4458-a5b9-844fcfa4eba0",
   "metadata": {},
   "outputs": [],
   "source": [
    "\"\"\" Find chromosomes on the genomic DNA sequence by indexing the first occurrence of chr01-chr12 Substrings \"\"\"\n",
    "\n",
    "whole_seq_index1 = whole_seq.find(\">chr01\")\n",
    "whole_seq_index2 = whole_seq.find(\">chr02\")\n",
    "whole_seq_index3 = whole_seq.find(\">chr03\")\n",
    "whole_seq_index4 = whole_seq.find(\">chr04\")\n",
    "whole_seq_index5 = whole_seq.find(\">chr05\")\n",
    "whole_seq_index6 = whole_seq.find(\">chr06\")\n",
    "whole_seq_index7 = whole_seq.find(\">chr07\")\n",
    "whole_seq_index8 = whole_seq.find(\">chr08\")\n",
    "whole_seq_index9 = whole_seq.find(\">chr09\")\n",
    "whole_seq_index10 = whole_seq.find(\">chr10\")\n",
    "whole_seq_index11 = whole_seq.find(\">chr11\")\n",
    "whole_seq_index12 = whole_seq.find(\">chr12\")\n",
    "whole_seq_index13 = whole_seq.find(\">sc\")"
   ]
  },
  {
   "cell_type": "code",
   "execution_count": 17,
   "id": "6d63f79f-40be-4a6f-b4cd-fdbafb74c3fb",
   "metadata": {},
   "outputs": [],
   "source": [
    "\"\"\" separate the chromosomes, based on the first occurance of Substrings  \"\"\"\n",
    "\n",
    "chr_1 = whole_seq[0:88591692]\n",
    "chr_2 = whole_seq[88591692:134694613]\n",
    "chr_3 = whole_seq[134694613:195402189]\n",
    "chr_4 = whole_seq[195402189:264638526]\n",
    "chr_5 = whole_seq[264638526:320238229]\n",
    "chr_6 = whole_seq[320238229:379329813]\n",
    "chr_7 = whole_seq[379329813:436969136]\n",
    "chr_8 = whole_seq[436969136:496195142]\n",
    "chr_9 = whole_seq[496195142:563795448]\n",
    "chr_10 = whole_seq[563795448:624839605]\n",
    "chr_11 = whole_seq[624839605:671616998]\n",
    "chr_12 = whole_seq[671616998:731287759]"
   ]
  },
  {
   "cell_type": "code",
   "execution_count": 18,
   "id": "ff1eeda3-1f97-457e-964e-a9425d85c966",
   "metadata": {},
   "outputs": [],
   "source": [
    "\"\"\" delete chr labels of each string \"\"\"\n",
    "\n",
    "chr1 = chr_1[7:]\n",
    "chr2 = chr_2[7:]\n",
    "chr3 = chr_3[7:]\n",
    "chr4 = chr_4[7:]\n",
    "chr5 = chr_5[7:]\n",
    "chr6 = chr_6[7:]\n",
    "chr7 = chr_7[7:]\n",
    "chr8 = chr_8[7:]\n",
    "chr9 = chr_9[7:]\n",
    "chr10 = chr_10[7:]\n",
    "chr11 = chr_11[7:]\n",
    "chr12 = chr_12[7:]"
   ]
  },
  {
   "cell_type": "markdown",
   "id": "94a9784c-3679-4ff1-8085-bffc171d2661",
   "metadata": {
    "tags": []
   },
   "source": [
    "## III. Mapping CDS starting positions on the chromosomes"
   ]
  },
  {
   "cell_type": "markdown",
   "id": "fe9bf439-cc46-4dfe-9355-ed8848d1ccbf",
   "metadata": {},
   "source": [
    "### Task III/1. Create lists of gene positions on the chromosomes."
   ]
  },
  {
   "cell_type": "code",
   "execution_count": 19,
   "id": "3af9d28f-1c4c-4ea5-9c5d-78e10038e052",
   "metadata": {},
   "outputs": [],
   "source": [
    "\"\"\" the Start/End columns are to be converted to a list (of integers) \"\"\"\n",
    "\n",
    "# on positive DNA strand chromosomes\n",
    "\n",
    "chr1_pos_genes_pos = chr1_pos_mapped_['Start'].tolist()    \n",
    "chr2_pos_genes_pos = chr2_pos_mapped_['Start'].tolist()\n",
    "chr3_pos_genes_pos = chr3_pos_mapped_['Start'].tolist()\n",
    "chr4_pos_genes_pos = chr4_pos_mapped_['Start'].tolist()\n",
    "chr5_pos_genes_pos = chr5_pos_mapped_['Start'].tolist()\n",
    "chr6_pos_genes_pos = chr6_pos_mapped_['Start'].tolist()\n",
    "chr7_pos_genes_pos = chr7_pos_mapped_['Start'].tolist()\n",
    "chr8_pos_genes_pos = chr8_pos_mapped_['Start'].tolist()\n",
    "chr9_pos_genes_pos = chr9_pos_mapped_['Start'].tolist()\n",
    "chr10_pos_genes_pos = chr10_pos_mapped_['Start'].tolist()\n",
    "chr11_pos_genes_pos = chr11_pos_mapped_['Start'].tolist()\n",
    "chr12_pos_genes_pos = chr12_pos_mapped_['Start'].tolist()\n",
    "\n",
    "# on negative DNA strand chromosomes\n",
    "\n",
    "chr1_neg_genes_pos = chr1_neg_mapped_['End'].tolist()    \n",
    "chr2_neg_genes_pos = chr2_neg_mapped_['End'].tolist()\n",
    "chr3_neg_genes_pos = chr3_neg_mapped_['End'].tolist()\n",
    "chr4_neg_genes_pos = chr4_neg_mapped_['End'].tolist()\n",
    "chr5_neg_genes_pos = chr5_neg_mapped_['End'].tolist()\n",
    "chr6_neg_genes_pos = chr6_neg_mapped_['End'].tolist()\n",
    "chr7_neg_genes_pos = chr7_neg_mapped_['End'].tolist()\n",
    "chr8_neg_genes_pos = chr8_neg_mapped_['End'].tolist()\n",
    "chr9_neg_genes_pos = chr9_neg_mapped_['End'].tolist()\n",
    "chr10_neg_genes_pos = chr10_neg_mapped_['End'].tolist()\n",
    "chr11_neg_genes_pos = chr11_neg_mapped_['End'].tolist()\n",
    "chr12_neg_genes_pos = chr12_neg_mapped_['End'].tolist()"
   ]
  },
  {
   "cell_type": "markdown",
   "id": "b27fd544-e998-4b7d-a9e7-10dff5ba393d",
   "metadata": {
    "tags": []
   },
   "source": [
    "### Task III/2. Making the 2 x 12 lists of promoters (1500nt in length)."
   ]
  },
  {
   "cell_type": "markdown",
   "id": "283090a1-387d-4429-8711-e2ce680e2b17",
   "metadata": {},
   "source": [
    "Substracting 1500 from ATG positions on the positive strand"
   ]
  },
  {
   "cell_type": "code",
   "execution_count": 20,
   "id": "6b084a2c-651f-4ccb-972a-43940a99d712",
   "metadata": {},
   "outputs": [],
   "source": [
    "\"\"\" chr 1 + \"\"\"\n",
    "\n",
    "gene_index = 0 \n",
    "chr1_pos_promoters = [] # it creates an empty list\n",
    "for element in chr1_pos_genes_pos:      # for the every elements of the list of integers (n = 2142)\n",
    "    xld_1 = (chr1[(chr1_pos_genes_pos[gene_index]-1500):chr1_pos_genes_pos[gene_index]])\n",
    "    chr1_pos_promoters.append(xld_1)\n",
    "    gene_index += 1"
   ]
  },
  {
   "cell_type": "code",
   "execution_count": 21,
   "id": "b0869c1e-0386-40a3-afdc-ea876093747f",
   "metadata": {},
   "outputs": [],
   "source": [
    "\"\"\" chr 2 + \"\"\"\n",
    "\n",
    "gene_index = 0 \n",
    "chr2_pos_promoters = [] \n",
    "for element in chr2_pos_genes_pos:     \n",
    "    xld_2 = (chr2[(chr2_pos_genes_pos[gene_index]-1500):chr2_pos_genes_pos[gene_index]])\n",
    "    chr2_pos_promoters.append(xld_2)\n",
    "    gene_index += 1"
   ]
  },
  {
   "cell_type": "code",
   "execution_count": 22,
   "id": "0a9a2a69-e170-4fb6-914b-98cb5fec5ecc",
   "metadata": {},
   "outputs": [],
   "source": [
    "\"\"\" chr 3 + \"\"\"\n",
    "\n",
    "gene_index = 0 \n",
    "chr3_pos_promoters = [] # it creates an empty list\n",
    "for element in chr3_pos_genes_pos:      # for the every elements of the list of integers (n = 2142)\n",
    "    xld_3 = (chr3[(chr3_pos_genes_pos[gene_index]-1500):chr3_pos_genes_pos[gene_index]])\n",
    "    chr3_pos_promoters.append(xld_3)\n",
    "    gene_index += 1"
   ]
  },
  {
   "cell_type": "code",
   "execution_count": 23,
   "id": "ea1c4b0b-873e-45f8-af94-f7b8e9381b23",
   "metadata": {},
   "outputs": [],
   "source": [
    "\"\"\" chr 4 + \"\"\"\n",
    "\n",
    "gene_index = 0 \n",
    "chr4_pos_promoters = [] # it creates an empty list\n",
    "for element in chr4_pos_genes_pos:      # for the every elements of the list of integers (n = 2142)\n",
    "    xld_4 = (chr4[(chr4_pos_genes_pos[gene_index]-1500):chr4_pos_genes_pos[gene_index]])\n",
    "    chr4_pos_promoters.append(xld_4)\n",
    "    gene_index += 1"
   ]
  },
  {
   "cell_type": "code",
   "execution_count": 24,
   "id": "f748b6f1-d385-4dcc-9df8-470420c0b7a6",
   "metadata": {},
   "outputs": [],
   "source": [
    "\"\"\" chr 5 + \"\"\"\n",
    "\n",
    "gene_index = 0 \n",
    "chr5_pos_promoters = [] # it creates an empty list\n",
    "for element in chr5_pos_genes_pos:      # for the every elements of the list of integers (n = 2142)\n",
    "    xld_5 = (chr5[(chr5_pos_genes_pos[gene_index]-1500):chr5_pos_genes_pos[gene_index]])\n",
    "    chr5_pos_promoters.append(xld_5)\n",
    "    gene_index += 1"
   ]
  },
  {
   "cell_type": "code",
   "execution_count": 25,
   "id": "f4fa2b09-3fca-4683-aeb0-8206716d6f7d",
   "metadata": {},
   "outputs": [],
   "source": [
    "\"\"\" chr 6 + \"\"\"\n",
    "\n",
    "gene_index = 0 \n",
    "chr6_pos_promoters = [] # it creates an empty list\n",
    "for element in chr6_pos_genes_pos:      # for the every elements of the list of integers (n = 2142)\n",
    "    xld_6 = (chr6[(chr6_pos_genes_pos[gene_index]-1500):chr6_pos_genes_pos[gene_index]])\n",
    "    chr6_pos_promoters.append(xld_6)\n",
    "    gene_index += 1"
   ]
  },
  {
   "cell_type": "code",
   "execution_count": 26,
   "id": "b58f69db-64b8-465a-ae1b-0ae5988c792d",
   "metadata": {},
   "outputs": [],
   "source": [
    "\"\"\" chr 7 + \"\"\"\n",
    "\n",
    "gene_index = 0 \n",
    "chr7_pos_promoters = [] # it creates an empty list\n",
    "for element in chr7_pos_genes_pos:      # for the every elements of the list of integers (n = 2142)\n",
    "    xld_7 = (chr7[(chr7_pos_genes_pos[gene_index]-1500):chr7_pos_genes_pos[gene_index]])\n",
    "    chr7_pos_promoters.append(xld_7)\n",
    "    gene_index += 1"
   ]
  },
  {
   "cell_type": "code",
   "execution_count": 27,
   "id": "ab6594b4-6ec5-4ad0-adac-0a5510ee71a9",
   "metadata": {},
   "outputs": [],
   "source": [
    "\"\"\" chr 8 + \"\"\"\n",
    "\n",
    "gene_index = 0 \n",
    "chr8_pos_promoters = [] # it creates an empty list\n",
    "for element in chr8_pos_genes_pos:      # for the every elements of the list of integers (n = 2142)\n",
    "    xld_8 = (chr8[(chr8_pos_genes_pos[gene_index]-1500):chr8_pos_genes_pos[gene_index]])\n",
    "    chr8_pos_promoters.append(xld_8)\n",
    "    gene_index += 1"
   ]
  },
  {
   "cell_type": "code",
   "execution_count": 28,
   "id": "f1fe5c73-3ebd-4d09-8b2c-b4b73c8bccc8",
   "metadata": {},
   "outputs": [],
   "source": [
    "\"\"\" chr 9 + \"\"\"\n",
    "\n",
    "gene_index = 0 \n",
    "chr9_pos_promoters = [] # it creates an empty list\n",
    "for element in chr9_pos_genes_pos:      # for the every elements of the list of integers (n = 2142)\n",
    "    xld_9 = (chr9[(chr9_pos_genes_pos[gene_index]-1500):chr9_pos_genes_pos[gene_index]])\n",
    "    chr9_pos_promoters.append(xld_9)\n",
    "    gene_index += 1"
   ]
  },
  {
   "cell_type": "code",
   "execution_count": 29,
   "id": "4f3af72c-077f-443e-9bfc-32969be9956f",
   "metadata": {},
   "outputs": [],
   "source": [
    "\"\"\" chr 10 + \"\"\"\n",
    "\n",
    "gene_index = 0 \n",
    "chr10_pos_promoters = [] # it creates an empty list\n",
    "for element in chr10_pos_genes_pos:      # for the every elements of the list of integers (n = 2142)\n",
    "    xld_10 = (chr10[(chr10_pos_genes_pos[gene_index]-1500):chr10_pos_genes_pos[gene_index]])\n",
    "    chr10_pos_promoters.append(xld_10)\n",
    "    gene_index += 1"
   ]
  },
  {
   "cell_type": "code",
   "execution_count": 30,
   "id": "041bb3c6-6c2b-49cb-aac8-823c067c8346",
   "metadata": {},
   "outputs": [],
   "source": [
    "\"\"\" chr 11 + \"\"\"\n",
    "\n",
    "gene_index = 0 \n",
    "chr11_pos_promoters = [] # it creates an empty list\n",
    "for element in chr11_pos_genes_pos:      # for the every elements of the list of integers (n = 2142)\n",
    "    xld_11 = (chr11[(chr11_pos_genes_pos[gene_index]-1500):chr11_pos_genes_pos[gene_index]])\n",
    "    chr11_pos_promoters.append(xld_11)\n",
    "    gene_index += 1"
   ]
  },
  {
   "cell_type": "code",
   "execution_count": 31,
   "id": "1ca7d0c5-2952-479f-afff-bc86ac2a1818",
   "metadata": {},
   "outputs": [],
   "source": [
    "\"\"\" chr 12 + \"\"\"\n",
    "\n",
    "gene_index = 0 \n",
    "chr12_pos_promoters = [] # it creates an empty list\n",
    "for element in chr12_pos_genes_pos:      # for the every elements of the list of integers (n = 2142)\n",
    "    xld_12 = (chr12[(chr12_pos_genes_pos[gene_index]-1500):chr12_pos_genes_pos[gene_index]])\n",
    "    chr12_pos_promoters.append(xld_12)\n",
    "    gene_index += 1"
   ]
  },
  {
   "cell_type": "markdown",
   "id": "2a044c6d-defa-450f-959d-d71a48ef12cc",
   "metadata": {},
   "source": [
    "Adding 1500 to ATG positions on the negative (reverse complement) strand"
   ]
  },
  {
   "cell_type": "code",
   "execution_count": 32,
   "id": "84950075-1ca8-4a6c-822b-8226e888bd56",
   "metadata": {},
   "outputs": [],
   "source": [
    "\"\"\" chr 1 - \"\"\"\n",
    "\n",
    "gene_index = 0 \n",
    "chr1_neg_promoters = [] \n",
    "for element in chr1_neg_genes_pos:     \n",
    "    xlf_1 = (chr1[(chr1_neg_genes_pos[gene_index]):chr1_neg_genes_pos[gene_index]+1500])\n",
    "    chr1_neg_promoters.append(xlf_1)\n",
    "    gene_index += 1"
   ]
  },
  {
   "cell_type": "code",
   "execution_count": 33,
   "id": "47b9729e-f50b-42e6-939e-ab0e61331202",
   "metadata": {},
   "outputs": [],
   "source": [
    "\"\"\" chr 2 - \"\"\"\n",
    "\n",
    "gene_index = 0 \n",
    "chr2_neg_promoters = [] \n",
    "for element in chr2_neg_genes_pos:     \n",
    "    xlf_2 = (chr2[(chr2_neg_genes_pos[gene_index]):chr2_neg_genes_pos[gene_index]+1500])\n",
    "    chr2_neg_promoters.append(xlf_2)\n",
    "    gene_index += 1"
   ]
  },
  {
   "cell_type": "code",
   "execution_count": 34,
   "id": "24af40d3-2a32-4b81-80ea-4264ccbee28d",
   "metadata": {},
   "outputs": [],
   "source": [
    "\"\"\" chr 3 - \"\"\"\n",
    "\n",
    "gene_index = 0 \n",
    "chr3_neg_promoters = [] \n",
    "for element in chr3_neg_genes_pos:      \n",
    "    xlf_3 = (chr3[(chr3_neg_genes_pos[gene_index]):chr3_neg_genes_pos[gene_index]+1500])\n",
    "    chr3_neg_promoters.append(xlf_3)\n",
    "    gene_index += 1"
   ]
  },
  {
   "cell_type": "code",
   "execution_count": 35,
   "id": "19a27173-c0ab-40d3-95ec-ad1e8781aa19",
   "metadata": {},
   "outputs": [],
   "source": [
    "\"\"\" chr 4 - \"\"\"\n",
    "\n",
    "gene_index = 0 \n",
    "chr4_neg_promoters = [] \n",
    "for element in chr4_neg_genes_pos:      \n",
    "    xlf_4 = (chr4[(chr4_neg_genes_pos[gene_index]):chr4_neg_genes_pos[gene_index]+1500])\n",
    "    chr4_neg_promoters.append(xlf_4)\n",
    "    gene_index += 1"
   ]
  },
  {
   "cell_type": "code",
   "execution_count": 36,
   "id": "444dd884-1d7e-4b24-8767-11132f89e70c",
   "metadata": {},
   "outputs": [],
   "source": [
    "\"\"\" chr 5 - \"\"\"\n",
    "\n",
    "gene_index = 0 \n",
    "chr5_neg_promoters = [] \n",
    "for element in chr5_neg_genes_pos:      \n",
    "    xlf_5 = (chr5[(chr5_neg_genes_pos[gene_index]):chr5_neg_genes_pos[gene_index]+1500])\n",
    "    chr5_neg_promoters.append(xlf_5)\n",
    "    gene_index += 1"
   ]
  },
  {
   "cell_type": "code",
   "execution_count": 37,
   "id": "e38c598c-d4a2-48d2-9daf-a98c6b697434",
   "metadata": {},
   "outputs": [],
   "source": [
    "\"\"\" chr 6 - \"\"\"\n",
    "\n",
    "gene_index = 0 \n",
    "chr6_neg_promoters = [] \n",
    "for element in chr6_neg_genes_pos:      \n",
    "    xlf_6 = (chr6[(chr6_neg_genes_pos[gene_index]):chr6_neg_genes_pos[gene_index]+1500])\n",
    "    chr6_neg_promoters.append(xlf_6)\n",
    "    gene_index += 1"
   ]
  },
  {
   "cell_type": "code",
   "execution_count": 38,
   "id": "64681d5f-e875-4d15-b0f6-04ba729d0d7c",
   "metadata": {},
   "outputs": [],
   "source": [
    "\"\"\" chr 7 - \"\"\"\n",
    "\n",
    "gene_index = 0 \n",
    "chr7_neg_promoters = [] \n",
    "for element in chr7_neg_genes_pos:      \n",
    "    xlf_7 = (chr7[(chr7_neg_genes_pos[gene_index]):chr7_neg_genes_pos[gene_index]+1500])\n",
    "    chr7_neg_promoters.append(xlf_7)\n",
    "    gene_index += 1"
   ]
  },
  {
   "cell_type": "code",
   "execution_count": 39,
   "id": "9985c0c4-3d03-40b9-a0f9-9b40b632daa2",
   "metadata": {},
   "outputs": [],
   "source": [
    "\"\"\" chr 8 - \"\"\"\n",
    "\n",
    "gene_index = 0 \n",
    "chr8_neg_promoters = [] \n",
    "for element in chr8_neg_genes_pos:      \n",
    "    xlf_8 = (chr8[(chr8_neg_genes_pos[gene_index]):chr8_neg_genes_pos[gene_index]+1500])\n",
    "    chr8_neg_promoters.append(xlf_8)\n",
    "    gene_index += 1"
   ]
  },
  {
   "cell_type": "code",
   "execution_count": 40,
   "id": "f4f61dcc-04ac-42c7-9613-e3ff45edf6b0",
   "metadata": {},
   "outputs": [],
   "source": [
    "\"\"\" chr 9 - \"\"\"\n",
    "\n",
    "gene_index = 0 \n",
    "chr9_neg_promoters = [] \n",
    "for element in chr9_neg_genes_pos:      \n",
    "    xlf_9 = (chr9[(chr9_neg_genes_pos[gene_index]):chr9_neg_genes_pos[gene_index]+1500])\n",
    "    chr9_neg_promoters.append(xlf_9)\n",
    "    gene_index += 1"
   ]
  },
  {
   "cell_type": "code",
   "execution_count": 41,
   "id": "b51143a8-538b-4915-a3e0-f4db41254685",
   "metadata": {},
   "outputs": [],
   "source": [
    "\"\"\" chr 10 - \"\"\"\n",
    "\n",
    "gene_index = 0 \n",
    "chr10_neg_promoters = [] \n",
    "for element in chr10_neg_genes_pos:      \n",
    "    xlf_10 = (chr10[(chr10_neg_genes_pos[gene_index]):chr10_neg_genes_pos[gene_index]+1500])\n",
    "    chr10_neg_promoters.append(xlf_10)\n",
    "    gene_index += 1"
   ]
  },
  {
   "cell_type": "code",
   "execution_count": 42,
   "id": "71952d3d-3ddc-4367-9c26-bc7b9d1b4185",
   "metadata": {},
   "outputs": [],
   "source": [
    "\"\"\" chr 11 - \"\"\"\n",
    "\n",
    "gene_index = 0 \n",
    "chr11_neg_promoters = [] \n",
    "for element in chr11_neg_genes_pos:      \n",
    "    xlf_11 = (chr11[(chr11_neg_genes_pos[gene_index]):chr11_neg_genes_pos[gene_index]+1500])\n",
    "    chr11_neg_promoters.append(xlf_11)\n",
    "    gene_index += 1"
   ]
  },
  {
   "cell_type": "code",
   "execution_count": 43,
   "id": "c06e3f91-14e0-442e-bb2a-cd6b19bc0f80",
   "metadata": {},
   "outputs": [],
   "source": [
    "\"\"\" chr 12 - \"\"\"\n",
    "\n",
    "gene_index = 0 \n",
    "chr12_neg_promoters = [] \n",
    "for element in chr12_neg_genes_pos:      \n",
    "    xlf_12 = (chr12[(chr12_neg_genes_pos[gene_index]):chr12_neg_genes_pos[gene_index]+1500])\n",
    "    chr12_neg_promoters.append(xlf_12)\n",
    "    gene_index += 1"
   ]
  },
  {
   "cell_type": "markdown",
   "id": "6ff8212a-3068-43ee-92f9-9e8ed30a78cc",
   "metadata": {
    "tags": []
   },
   "source": [
    "### Task III/3. Create a dictionary of gene IDs."
   ]
  },
  {
   "cell_type": "code",
   "execution_count": 44,
   "id": "f7f51b3f-4267-4141-bae4-26da918d7a59",
   "metadata": {},
   "outputs": [],
   "source": [
    "\"\"\" the gene ID columns are to be converted to a list of strings \"\"\"\n",
    "\n",
    "# chromosome_positive-strand_genes_positions:\n",
    "\n",
    "chr1_pos_gene_ID = chr1_pos_mapped_['gene_ID'].tolist()  \n",
    "chr2_pos_gene_ID = chr2_pos_mapped_['gene_ID'].tolist()\n",
    "chr3_pos_gene_ID = chr3_pos_mapped_['gene_ID'].tolist()\n",
    "chr4_pos_gene_ID = chr4_pos_mapped_['gene_ID'].tolist()\n",
    "chr5_pos_gene_ID = chr5_pos_mapped_['gene_ID'].tolist()\n",
    "chr6_pos_gene_ID = chr6_pos_mapped_['gene_ID'].tolist()\n",
    "chr7_pos_gene_ID = chr7_pos_mapped_['gene_ID'].tolist()\n",
    "chr8_pos_gene_ID = chr8_pos_mapped_['gene_ID'].tolist()\n",
    "chr9_pos_gene_ID = chr9_pos_mapped_['gene_ID'].tolist()\n",
    "chr10_pos_gene_ID = chr10_pos_mapped_['gene_ID'].tolist()\n",
    "chr11_pos_gene_ID = chr11_pos_mapped_['gene_ID'].tolist()\n",
    "chr12_pos_gene_ID = chr12_pos_mapped_['gene_ID'].tolist()\n",
    "\n",
    "# chromosome_negative-strand_genes_positions:\n",
    "\n",
    "chr1_neg_gene_ID = chr1_neg_mapped_['gene_ID'].tolist()    \n",
    "chr2_neg_gene_ID = chr2_neg_mapped_['gene_ID'].tolist()\n",
    "chr3_neg_gene_ID = chr3_neg_mapped_['gene_ID'].tolist()\n",
    "chr4_neg_gene_ID = chr4_neg_mapped_['gene_ID'].tolist()\n",
    "chr5_neg_gene_ID = chr5_neg_mapped_['gene_ID'].tolist()\n",
    "chr6_neg_gene_ID = chr6_neg_mapped_['gene_ID'].tolist()\n",
    "chr7_neg_gene_ID = chr7_neg_mapped_['gene_ID'].tolist()\n",
    "chr8_neg_gene_ID = chr8_neg_mapped_['gene_ID'].tolist()\n",
    "chr9_neg_gene_ID = chr9_neg_mapped_['gene_ID'].tolist()\n",
    "chr10_neg_gene_ID = chr10_neg_mapped_['gene_ID'].tolist()\n",
    "chr11_neg_gene_ID = chr11_neg_mapped_['gene_ID'].tolist()\n",
    "chr12_neg_gene_ID = chr12_neg_mapped_['gene_ID'].tolist()"
   ]
  },
  {
   "cell_type": "code",
   "execution_count": 45,
   "id": "a810613c-78ba-4851-b67b-3bf2268d2152",
   "metadata": {},
   "outputs": [],
   "source": [
    "\"\"\" Adding the list of promoters (from Task III/2) to the dictionaries \"\"\"\n",
    "\n",
    "# positive strand\n",
    "\n",
    "chr1_pos_gene_ID_promoters_dict = dict(zip(chr1_pos_gene_ID, chr1_pos_promoters))\n",
    "chr2_pos_gene_ID_promoters_dict = dict(zip(chr2_pos_gene_ID, chr2_pos_promoters))\n",
    "chr3_pos_gene_ID_promoters_dict = dict(zip(chr3_pos_gene_ID, chr3_pos_promoters))\n",
    "chr4_pos_gene_ID_promoters_dict = dict(zip(chr4_pos_gene_ID, chr4_pos_promoters))\n",
    "chr5_pos_gene_ID_promoters_dict = dict(zip(chr5_pos_gene_ID, chr5_pos_promoters))\n",
    "chr6_pos_gene_ID_promoters_dict = dict(zip(chr6_pos_gene_ID, chr6_pos_promoters))\n",
    "chr7_pos_gene_ID_promoters_dict = dict(zip(chr7_pos_gene_ID, chr7_pos_promoters))\n",
    "chr8_pos_gene_ID_promoters_dict = dict(zip(chr8_pos_gene_ID, chr8_pos_promoters))\n",
    "chr9_pos_gene_ID_promoters_dict = dict(zip(chr9_pos_gene_ID, chr9_pos_promoters))\n",
    "chr10_pos_gene_ID_promoters_dict = dict(zip(chr10_pos_gene_ID, chr10_pos_promoters))\n",
    "chr11_pos_gene_ID_promoters_dict = dict(zip(chr11_pos_gene_ID, chr11_pos_promoters))\n",
    "chr12_pos_gene_ID_promoters_dict = dict(zip(chr12_pos_gene_ID, chr12_pos_promoters))\n",
    "\n",
    "\n",
    "# negative strand\n",
    "\n",
    "chr1_neg_gene_ID_promoters_dict = dict(zip(chr1_neg_gene_ID, chr1_neg_promoters))\n",
    "chr2_neg_gene_ID_promoters_dict = dict(zip(chr2_neg_gene_ID, chr2_neg_promoters))\n",
    "chr3_neg_gene_ID_promoters_dict = dict(zip(chr3_neg_gene_ID, chr3_neg_promoters))\n",
    "chr4_neg_gene_ID_promoters_dict = dict(zip(chr4_neg_gene_ID, chr4_neg_promoters))\n",
    "chr5_neg_gene_ID_promoters_dict = dict(zip(chr5_neg_gene_ID, chr5_neg_promoters))\n",
    "chr6_neg_gene_ID_promoters_dict = dict(zip(chr6_neg_gene_ID, chr6_neg_promoters))\n",
    "chr7_neg_gene_ID_promoters_dict = dict(zip(chr7_neg_gene_ID, chr7_neg_promoters))\n",
    "chr8_neg_gene_ID_promoters_dict = dict(zip(chr8_neg_gene_ID, chr8_neg_promoters))\n",
    "chr9_neg_gene_ID_promoters_dict = dict(zip(chr9_neg_gene_ID, chr9_neg_promoters))\n",
    "chr10_neg_gene_ID_promoters_dict = dict(zip(chr10_neg_gene_ID, chr10_neg_promoters))\n",
    "chr11_neg_gene_ID_promoters_dict = dict(zip(chr11_neg_gene_ID, chr11_neg_promoters))\n",
    "chr12_neg_gene_ID_promoters_dict = dict(zip(chr12_neg_gene_ID, chr12_neg_promoters))"
   ]
  },
  {
   "cell_type": "code",
   "execution_count": 46,
   "id": "849bb255-cdfc-4d6c-96f0-e2562274f49a",
   "metadata": {},
   "outputs": [],
   "source": [
    "\"\"\" Merging positive strand dictionaries \"\"\"\n",
    "\n",
    "POSITIVE_STRAND_GENE_ID_PROMOTERS_DICTIONARY = {**chr1_pos_gene_ID_promoters_dict, **chr2_pos_gene_ID_promoters_dict, \n",
    "**chr3_pos_gene_ID_promoters_dict, **chr4_pos_gene_ID_promoters_dict, **chr5_pos_gene_ID_promoters_dict,\n",
    "**chr6_pos_gene_ID_promoters_dict, **chr7_pos_gene_ID_promoters_dict, **chr8_pos_gene_ID_promoters_dict,\n",
    "**chr9_pos_gene_ID_promoters_dict, **chr10_pos_gene_ID_promoters_dict, **chr11_pos_gene_ID_promoters_dict,\n",
    "**chr12_pos_gene_ID_promoters_dict}"
   ]
  },
  {
   "cell_type": "code",
   "execution_count": 47,
   "id": "edc0e33b-b977-4e4d-8c2a-089e884ebe4c",
   "metadata": {},
   "outputs": [],
   "source": [
    "\"\"\" Merging negative strand dictionaries \"\"\"\n",
    "\n",
    "Negative_strand_gene_ID_promoters_dictionary = {**chr1_neg_gene_ID_promoters_dict, **chr2_neg_gene_ID_promoters_dict, \n",
    "**chr3_neg_gene_ID_promoters_dict, **chr4_neg_gene_ID_promoters_dict, **chr5_neg_gene_ID_promoters_dict,\n",
    "**chr6_neg_gene_ID_promoters_dict, **chr7_neg_gene_ID_promoters_dict, **chr8_neg_gene_ID_promoters_dict,\n",
    "**chr9_neg_gene_ID_promoters_dict, **chr10_neg_gene_ID_promoters_dict, **chr11_neg_gene_ID_promoters_dict,\n",
    "**chr12_neg_gene_ID_promoters_dict}"
   ]
  },
  {
   "cell_type": "markdown",
   "id": "7f13fbb6-b267-4884-b729-2751a58588cb",
   "metadata": {},
   "source": [
    "### Task III/4. Make the reverse complement of negative DNA strand sequences."
   ]
  },
  {
   "cell_type": "code",
   "execution_count": 48,
   "id": "373c2d30-742e-42a5-891b-9a2d468dd5ec",
   "metadata": {},
   "outputs": [],
   "source": [
    "\"\"\" A list that contains only the values of the dictionary \"\"\"\n",
    "\n",
    "neg_dict_vals = Negative_strand_gene_ID_promoters_dictionary.values() # it returns a dict-value object which is a set-like object \n",
    "neg_dict_vals_list = list(neg_dict_vals)                                  #  it converted to a list"
   ]
  },
  {
   "cell_type": "code",
   "execution_count": 49,
   "id": "33242b09-d820-4564-9bd9-e5362dd9d932",
   "metadata": {},
   "outputs": [],
   "source": [
    "\"\"\" first concatenate items in a list to a single string \"\"\"\n",
    "\n",
    "neg_dict_vals_string = ''.join(neg_dict_vals)"
   ]
  },
  {
   "cell_type": "code",
   "execution_count": 50,
   "id": "614b3789-c5e2-486a-9193-b318dc1a206f",
   "metadata": {},
   "outputs": [],
   "source": [
    "\"\"\" make the reverse complement of the string with Biopython\"\"\"\n",
    "\n",
    "from Bio.Seq import Seq  \n",
    "seq = Seq(neg_dict_vals_string)\n",
    "seq_rev_compl = seq.reverse_complement()"
   ]
  },
  {
   "cell_type": "code",
   "execution_count": 51,
   "id": "c107629d-920c-431b-8b5a-4a9b95b2e2cc",
   "metadata": {},
   "outputs": [
    {
     "name": "stdout",
     "output_type": "stream",
     "text": [
      "<class 'str'>\n"
     ]
    }
   ],
   "source": [
    "\"\"\" convert Bio.Seq.Seq output to a string \"\"\"\n",
    "\n",
    "seq_rev_compl_str = str(seq_rev_compl)\n",
    "print(type(seq_rev_compl_str))"
   ]
  },
  {
   "cell_type": "code",
   "execution_count": 52,
   "id": "784f223f-ebd0-405f-97b9-ab7739f75c77",
   "metadata": {},
   "outputs": [
    {
     "data": {
      "text/plain": [
       "['AAGCAGGTAAACCCAAATTCAAAAAAAATTGCTTGAAAAAGACATTCGAGGCCACAGTTATGACAGTTTGAAGTTTCACCAATTTACAACTACTTTTTCAAGTTTCAATCTCTAATTTGGTGAAACTTCAAACGATCGTAACTTTTGCCTCGGATATCTGTTTGACGCAAAAAAAATTGATCATGGGTGTTTTTTCGAGATCTATTCGGTCAACTCCTTAATTTGTTTTGCTTTTTTATCTTATTATATTTTTATTTGTATAGAATAATTGTCACACAAGGTATTTAGGTAATTTTTTGTTCTAATATTATATATAGTGTCACTACAGAAAAAATCGTGACAAGCGACAAATCATATTCGATCGCTATTTAACGTGAAAAAAATTATACTTATTTTCTTCCCAATGCAAAAGATCATTAATAATTGTATTTGCAAATTAATTATTTCATCAATAACCTAAAATGTTCTTTGATACATGTTTTAAACTGTCAACATTTTTGCAACACTTCTTAATATTCTCTCTCAGTAGAGCTACTCAGTGAATAAGTATCACAAAAAAAGGAGTCATTTACATTATGATGATGCTAAGACAAACCAAGCTTCAAGGACTTGTTGCATGCTTTTGTATACACTTCATAGTTTATTGTAGTTTCGAATTTTAAATGTAGCACTTTTTGCAAGTATCATCTCTATTATTTATTAGTGGGGAGTGTAATAGTCTGGATTCGTAGAGTTTTTATCAGAATCACACATTGTTTTGATGTTGCTATTCGAAGACTTAGCTTACTGACAAGTTTGCTTGAAATTATATGCCCCTCTGTAATGTTTTAAATCATTTTCTCCAATAATATGTGGTGGAATTAAAGTTTGAATGACTATGCTACTGAGGATGGATCTATAGTGTTGGTTGCAGGTTGTAAATGAACTCCTAATCTTTAACTCTTACATTTGCATATGTCAAATCACAATTTACAAGAATTAGGCGATTTTCTCAATTTTTTCGTGTGTCCATGAATATTTTGATGATATGGCTTTTGGATGAATTTTTTGCGAAACCTTTATGGAACCCTCCGTAGGGAATTAAAGAATCCATATGGGCGGATAGGATGGGCCGAGGGTCCGTGAAAAATTATGTTTTCTATACATGATTAAAATTACAACAATGTTTATGTGTGATACTAGTTGAAGGTTTTTCATGTAAATTTCTATAGGGATTTGTCACAATTGAAAGTAGGCATAGCTAGGTAAGGAATTAGCTCAAGAAACTCTTTAGAAATTGAGATTTACAACTTTAACTATGAGAAATAGTGTAGATTTGGAATATTTTTTAAATAAATTAAAAAAAATAGACAGATAATTACAGCTCTATTTTTATTAATATTGTCCGCATTTAAATATACTTTTATTATTATTTATTTGTATAAATAAATAGATATTAGAGTTTGTTCCCCTTATCTACTTAGATAGAGCTTAATAGAGAGAAGAAGATAGAGCTAAGAA',\n",
       " 'TTTAATATGCATATGGAGGTCAAAATCAAGGTGCCCCTAACCCCCAAACCACCCACCCTACCAACACAATTTCTTTTACTAATATATTGTTTTTGAGGGAGAAAAGCTTGTTTCCAAAATGTACAACAAGTGAATAGAAAACTAAAATCAAGAGTAAACTAAACCAACTACTCCATGCAGACCTTGATCTATTTGGTTGTCTTTAATTGATAAAAAAAAGGGGATGATTGCACTTTTAGCTCTTCACTTGTTAATATATTAGTATATTTTTGGTCCTCATAATATTTAGGTATACCATTACTTAGATATGAAATCTACATGTTGATGCTCACAATGTCAATATTCATATCAGTGATTTGAAGGAAATAGTACATTTCGATTAACTCTTCATCATTTTCATTTGTTTGAGCGATATATATTTCGATGATATTCATTTTTAGATTAAGAGATCCAACTCACATCGAACCTAATGCATATATCAACTAGTTAAAGATTAAATATGTTTAACCAGAATTTAAAGATATTTGAGGGACTAAAATTTTTAAATTCTCTTAAAAAGATATATAAATAAAAGAAAGCTTATCAATAAAATATTTAGACTTTGACTTGTGAATAAAAAGGTACGCTAGCAATAGTTGAAGGGTCCGAAAAGGGTCCTTTGTCAGAGAAGTCGACGTCAAAAACATTTTTTTTTATTTATAGAAAGACCATTTTGTAGAGAAATTGACAAAATGGTGAAAAGTATATTTGACGGTAGATTTAAAATAGTTTCTTAAGAATTAATTGAGTAATTTTAATATTTTAAATAATTAAACGTGAATTTTTTTAATTTCTATCAAATTTTAATTGAAACTATAAATATTTTTAAATACTAGAAACACACACAAAAAATAAACACCAAAATTCGCAATATCAAATGGTATATTAAACATAAACATAGACAAAACATCTATCTCAAAAAATTACATCAGACTCTTGAAATATATTAAAAATAATACAATAAACTACTTTCAAAATGAGCTTTCGTTTCTATTTTTGTTGTTTTAATTAAATTAATTAACAACATAATATACCTAGTGTGATTTTATAAAGAGAATATGGAGATGACAACATGCACTCAACCTTAAGTTGTGCAAGATAAAAAAGTTATTTCCAATATGATTTGATTGATAATTAAGGAACTATTTTAAAATTACTATAAAAAATAAGGGATCATTTTTGTAATAATTTTCTCCCCAAAAACTCATTCCTAACTCTCTTCAATTATTATTATACTATCCAACACTTATCTCCTCCCTTTTCTCCATTCCCGCCTTTCATTTCAAGGCTTCAACAACAACTTAACTCATTCTTCATTAATGGTTAGTAATTTCTACCATCTTTCATATCTTGTTTTTCATTTTCCTGTTTTATAAATTAACTAACAATATTGTTCGTCCTTTTTATTTTATACAGTATTCGGGATTAACAACTTGAAATTGAATTTCTTCGTCTGAGCAA',\n",
       " 'CCCTGGTAAAGATGGAAATGTTACTTCCACAAGTAGGCTTCTTCCAGATCTTTATAATGTAAACTTGGATTGATTCATTGACAACTACATTTTGATTTCCATCATGTAATTATCTAACTCTATCTTCACACAGGTCCCACATAATTTCTTTTCGTGTATACTCCAATTTGTTCAATTGTGGTCCATGATGTTTTTGTAAAATGTATGTTACAATTCTTATTAATTAGTTCAATTGAAATATAATTTACTTAATAATTATGTATCAATTATTTTTATAATATCAGGTTTAAATCTATATTTTTTTTAAGAAAATGATTTCTCTTCTGTTGTTGGGTACCTGTATTGGAGTCCGACTAATCCAGATTTGTGCCTCATAGGGCTCCATTCAGAGAGAATAGCTCCGTACCAAGGATTATTTTCATGCCCATAACTCAAACGAGACCTTTGATTGGTTTAATCTATATTTATTGGACACTATGTTTTTAAAAATTAATATGTAACTTGAATACCAAATTGCAAATAAAATTTTAGTCATATTTCTTTTAGACATATATTTGTCGAATAATAATGTTATGTTTTTGTTGAATATTAACTTTGTAATTTTATTTTGTGCAACCAAATTATATATTTGTAATTACATTATAATTATGTTATGACAAACAAACATGTCGTTGTAATTACCAGCTGTACAGTTACTATTCTGATAGTAATTACACCAAATCCAGTTATGGGATGACTTTTCAAATAGATTTTTAATCTTCTCATGGAAATCATCTTTCATGTTGTTAAAAATGTTTGTGGTAAAAATCACACACACCTTCCAATTCTATGCTTTTGGATATGAGTATAGTTAATAATAAGAGTAAATTAAGACGGAAGGAGCAATATATTTTCAACAGTTAGCAATGGACAGTCATCAAATGTTAGGTAGTATTTGGTTTTAATTAGTATGGCTTTTATCATCAGACTTGGACTTTTCGAAATTGGCAAGAAACTACTATATAGTTTCATTCAGAATTAAATACTATTCTTATGTTAGACAATGTGAACTTATAATATTCTTTCGTCAAATCTTACCTTTCTCAATATTATATATTTAGTTAGTAGGAAATTTCTTAATTCATAAGTCATAAGATACAAAGAATTTGTGATTTTGTTATTGTTATGTCAAAGGGTGTGTATTGAACCTTTGGTTTTTAGTTGAGATACTCTTTTAACTTTCTTCTGTTTTTCTAAAGCATCAAAACGGCTGGTTATTATTGATTAATACGTCTTTTATAGTAATACTGCCTGCTATTATTGTCTGATTTGAAATCCGTTGAATTCAGACCATAAAGCATAGTTTTTTCTTCCTGTTAGCTCTACAACCACATTTCCGACCTCTTGTTTGGAATCAATTTTTTTTTATAAGTTCTCTGTAAAATACTCGTTTCTTTTCCTGCCTTTTTAGGCACTACTACAACTGGAAAAAGGATCATATTTGCCCCCGTACTCGCTCTC']"
      ]
     },
     "execution_count": 52,
     "metadata": {},
     "output_type": "execute_result"
    }
   ],
   "source": [
    "\"\"\" split string to list based on character number n=1500 \"\"\"\n",
    "\n",
    "import re\n",
    "resplit = [seq_rev_compl_str for seq_rev_compl_str in re.split(r'(\\w{1500})', seq_rev_compl_str) if seq_rev_compl_str]\n",
    "resplit [:3]"
   ]
  },
  {
   "cell_type": "code",
   "execution_count": 53,
   "id": "7f336cb2-9cc8-4f7a-8842-813804296722",
   "metadata": {},
   "outputs": [],
   "source": [
    "\"\"\" first, make a list that contains only the keys of the dictionary - negative strand \"\"\"\n",
    "\n",
    "neg_dict_keys = Negative_strand_gene_ID_promoters_dictionary.keys() # it returns a dict-value object which is a set-like object \n",
    "neg_dict_keys_list = list(neg_dict_keys)\n",
    "ned_dict_keys_list_rev = neg_dict_keys_list.reverse ()"
   ]
  },
  {
   "cell_type": "code",
   "execution_count": 54,
   "id": "864c305c-6dde-4f2a-b2ff-8133541e705f",
   "metadata": {},
   "outputs": [],
   "source": [
    "\"\"\" Convert Two Lists into a Dictionary \"\"\"\n",
    "\n",
    "Negative_strand_gene_ID_promoters_dictionary_v2 = dict(zip(neg_dict_keys_list, resplit))"
   ]
  },
  {
   "cell_type": "code",
   "execution_count": 55,
   "id": "298c1bad-53bc-48b7-a167-9c6a1f21c220",
   "metadata": {},
   "outputs": [],
   "source": [
    "\"\"\" Reverse the Order of Dictionary Keys \"\"\"\n",
    "\n",
    "NEGATIVE_STRAND_GENE_ID_PROMOTERS_DICTIONARY = dict(reversed(list(Negative_strand_gene_ID_promoters_dictionary_v2.items())))"
   ]
  },
  {
   "cell_type": "code",
   "execution_count": 56,
   "id": "1cf9a793-4d69-4497-a318-d8e11524b775",
   "metadata": {},
   "outputs": [],
   "source": [
    "### Task III/6. Create the final dictionary."
   ]
  },
  {
   "cell_type": "code",
   "execution_count": 57,
   "id": "e04d8eca-46c6-4cc8-b8f3-adda5eb46f83",
   "metadata": {},
   "outputs": [],
   "source": [
    "\"\"\" Merging two dictionaries \"\"\"\n",
    "\n",
    "GENE_ID_PROMOTERS_DICTIONARY = {**POSITIVE_STRAND_GENE_ID_PROMOTERS_DICTIONARY,\n",
    "**NEGATIVE_STRAND_GENE_ID_PROMOTERS_DICTIONARY}"
   ]
  },
  {
   "cell_type": "code",
   "execution_count": 58,
   "id": "013c3c43-69ea-426e-9ec4-9c15fcc1b50a",
   "metadata": {},
   "outputs": [
    {
     "name": "stdout",
     "output_type": "stream",
     "text": [
      "['Soltu.DM.01G000030', 'Soltu.DM.01G000040']\n"
     ]
    }
   ],
   "source": [
    "# test: print 1st + 2nd element of the dictionary\n",
    "\n",
    "print(list(GENE_ID_PROMOTERS_DICTIONARY.keys())[:2])"
   ]
  },
  {
   "cell_type": "code",
   "execution_count": 59,
   "id": "0fe64e96-b27d-4b53-870c-0b3de96df3f1",
   "metadata": {},
   "outputs": [
    {
     "name": "stdout",
     "output_type": "stream",
     "text": [
      "['Soltu.DM.12G030180', 'Soltu.DM.12G030210']\n"
     ]
    }
   ],
   "source": [
    "# test: print last + second to last elements of the dictionary\n",
    "\n",
    "print(list(GENE_ID_PROMOTERS_DICTIONARY.keys())[-2:])"
   ]
  },
  {
   "cell_type": "code",
   "execution_count": 60,
   "id": "f3c331a1-3a29-46e4-af31-5cde3fe3d323",
   "metadata": {},
   "outputs": [],
   "source": [
    "\"\"\" Export dictionary to csv \"\"\"\n",
    "\n",
    "with open('GENE_ID_1500BP_PROMOTER_DICTIONARY.csv', 'w') as f:\n",
    "    for key in GENE_ID_PROMOTERS_DICTIONARY.keys():\n",
    "        f.write(\"%s,%s\\n\"%(key,GENE_ID_PROMOTERS_DICTIONARY[key]))"
   ]
  }
 ],
 "metadata": {
  "kernelspec": {
   "display_name": "Python 3 (ipykernel)",
   "language": "python",
   "name": "python3"
  },
  "language_info": {
   "codemirror_mode": {
    "name": "ipython",
    "version": 3
   },
   "file_extension": ".py",
   "mimetype": "text/x-python",
   "name": "python",
   "nbconvert_exporter": "python",
   "pygments_lexer": "ipython3",
   "version": "3.10.10"
  }
 },
 "nbformat": 4,
 "nbformat_minor": 5
}
